{
 "cells": [
  {
   "cell_type": "code",
   "execution_count": 10,
   "metadata": {
    "collapsed": false
   },
   "outputs": [
    {
     "data": {
      "text/plain": [
       "0      Hotel is clean and very close to airport. Staf...\n",
       "1      Very convenient for LAX (free shuttle). New ve...\n",
       "2      The thing I like most about Holiday Inn LAX is...\n",
       "3      We stayed here one night before taking a cruis...\n",
       "4      This hotel is just minutes away from LAX with ...\n",
       "5      I stay at this hotel a lot. The staff is nice ...\n",
       "6      This hotel is good for a one night stay close ...\n",
       "7      I've been trying to call the hotel for the pas...\n",
       "8      It's a hit &the miss one week go od another ba...\n",
       "9      Marginal hotel, but close in proximity to LAX....\n",
       "10     We stayed in this hotel as we transited to & f...\n",
       "11     I'd recommend this hotel for a quick stopover ...\n",
       "12     Check in was quick and easy, our room was big ...\n",
       "13     I stayed at this hotel for 1 night prior to fl...\n",
       "14     Concierge and staff were very friendly, room w...\n",
       "15     Even as I write this I find it hard to describ...\n",
       "16     Overall, we had an average experience at this ...\n",
       "17     My wife is an airline employee so we fly stand...\n",
       "18     After missing a flight, I had to find accomoda...\n",
       "19     Great Service. Rooms are very nice.Close to LA...\n",
       "20     We recently(20 Dec 2011) stayed for a night be...\n",
       "21     I recently stayed at the holiday inn at lax ai...\n",
       "22     we came back to la to see a sport game and ask...\n",
       "23     We had two rooms here. One was loud and noisy ...\n",
       "24     My sister and I chose to stay here overnight b...\n",
       "25     We booked this hotel as we had an early flight...\n",
       "26     We have been staying here for 20 years because...\n",
       "27     We have used this hotel quite a lot of times w...\n",
       "28     Nice property next to LAX. Recently updated. M...\n",
       "29     I stayed 3 nights for a business trip. The hot...\n",
       "                             ...                        \n",
       "158    This hotel is in desperate need of an upgrade....\n",
       "159    My wife and I stayed at the Holday Inn LAX for...\n",
       "160    This was the worst place we stayed during our ...\n",
       "161    Got a free night at this hotel courtesy of a m...\n",
       "162    I stayed there twice in my last trip to LA. Ve...\n",
       "163    After reading many reviews on Tripadvisor I fi...\n",
       "164    it was just an average experience for me. Thou...\n",
       "165    I stayed here with 2 friends in February 2006 ...\n",
       "166    After reading almost every review on this hote...\n",
       "167    Stayed here 2 nights; you get pretty much what...\n",
       "168    My room number was given to a man that I did n...\n",
       "169    We stayed at this hotel for two nights before ...\n",
       "170    This hotel is one mile from the airport I stay...\n",
       "171    We were stuck in LAX overnight due to flight d...\n",
       "172    We stayed three nights early april, we could n...\n",
       "173    We stayed at the Holiday Inn Apr 14, for an ea...\n",
       "174    The staff was nice. It is close to the airport...\n",
       "175    We stayed here for 1 night courtesy of Northwe...\n",
       "176    I stayed here on 2 occasions and think that it...\n",
       "177    I was pleasantly surprised by my one night sta...\n",
       "178    I was very satisfied. There are bus stops righ...\n",
       "179    My wife and I stayed at this hotel as part of ...\n",
       "180    Very convenient to the airport. Clean, big roo...\n",
       "181    Stayed at this hotel for one night during Janu...\n",
       "182    Myself and my wife spent 1 night in the hotel....\n",
       "183    We booked this place on a family vacation in C...\n",
       "184    We stayed in this motel for 1 night before we ...\n",
       "185    Very convenient location when you want to drop...\n",
       "186    Stayed one night with my wife in June 2004. Co...\n",
       "187    Stayed here on business. Seemed like a decent ...\n",
       "Name: full_content, dtype: object"
      ]
     },
     "execution_count": 10,
     "metadata": {},
     "output_type": "execute_result"
    }
   ],
   "source": [
    "import pandas as pd\n",
    "import csv\n",
    "import json\n",
    "import nltk\n",
    "import numpy as np\n",
    "from pandas.io.json import json_normalize\n",
    "\n",
    "file = \"C:\\\\Users\\\\user\\\\Desktop\\\\semantics.json\"\n",
    "file1 = \"C:\\\\Users\\\\user\\\\Desktop\\\\reviews1.json\"  #reviews1.json\n",
    "df = pd.read_json(file1,typ='series')\n",
    "df_rev = json_normalize(df['Reviews'])\n",
    "df_rev['full_content'] = df_rev['Content'] + '. ' + df_rev['Title']\n",
    "pos = pd.read_json(file,typ='series')\n",
    "\n",
    "newcol = df_rev['full_content']\n",
    "newcol.to_csv('content_reviews.csv',header=False, index=False, encoding='utf-8')\n"
   ]
  },
  {
   "cell_type": "code",
   "execution_count": null,
   "metadata": {
    "collapsed": true
   },
   "outputs": [],
   "source": []
  },
  {
   "cell_type": "code",
   "execution_count": null,
   "metadata": {
    "collapsed": true
   },
   "outputs": [],
   "source": []
  }
 ],
 "metadata": {
  "kernelspec": {
   "display_name": "Python [default]",
   "language": "python",
   "name": "python2"
  },
  "language_info": {
   "codemirror_mode": {
    "name": "ipython",
    "version": 2
   },
   "file_extension": ".py",
   "mimetype": "text/x-python",
   "name": "python",
   "nbconvert_exporter": "python",
   "pygments_lexer": "ipython2",
   "version": "2.7.12"
  }
 },
 "nbformat": 4,
 "nbformat_minor": 1
}
