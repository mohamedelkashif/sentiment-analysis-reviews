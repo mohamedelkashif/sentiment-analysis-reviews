{
 "cells": [
  {
   "cell_type": "code",
   "execution_count": 21,
   "metadata": {
    "collapsed": false
   },
   "outputs": [
    {
     "ename": "NameError",
     "evalue": "name 'posScore' is not defined",
     "output_type": "error",
     "traceback": [
      "\u001b[0;31m---------------------------------------------------------------------------\u001b[0m",
      "\u001b[0;31mNameError\u001b[0m                                 Traceback (most recent call last)",
      "\u001b[0;32m<ipython-input-21-3e68adac6280>\u001b[0m in \u001b[0;36m<module>\u001b[0;34m()\u001b[0m\n\u001b[1;32m     34\u001b[0m         \u001b[1;32mfor\u001b[0m \u001b[0ms\u001b[0m \u001b[1;32min\u001b[0m \u001b[0mwordsFiltered\u001b[0m\u001b[1;33m:\u001b[0m\u001b[1;33m\u001b[0m\u001b[0m\n\u001b[1;32m     35\u001b[0m             \u001b[1;32mif\u001b[0m \u001b[0ms\u001b[0m \u001b[1;32min\u001b[0m \u001b[0mpos\u001b[0m\u001b[1;33m[\u001b[0m\u001b[1;34m'positive'\u001b[0m\u001b[1;33m]\u001b[0m\u001b[1;33m[\u001b[0m\u001b[0mi\u001b[0m\u001b[1;33m]\u001b[0m\u001b[1;33m[\u001b[0m\u001b[1;34m'phrase'\u001b[0m\u001b[1;33m]\u001b[0m\u001b[1;33m:\u001b[0m\u001b[1;33m\u001b[0m\u001b[0m\n\u001b[0;32m---> 36\u001b[0;31m                 \u001b[0mposScore\u001b[0m \u001b[1;33m=\u001b[0m \u001b[0mposScore\u001b[0m\u001b[1;33m+\u001b[0m\u001b[0mpos\u001b[0m\u001b[1;33m[\u001b[0m\u001b[1;34m'positive'\u001b[0m\u001b[1;33m]\u001b[0m\u001b[1;33m[\u001b[0m\u001b[0mi\u001b[0m\u001b[1;33m]\u001b[0m\u001b[1;33m[\u001b[0m\u001b[1;34m'value'\u001b[0m\u001b[1;33m]\u001b[0m\u001b[1;33m\u001b[0m\u001b[0m\n\u001b[0m",
      "\u001b[0;31mNameError\u001b[0m: name 'posScore' is not defined"
     ]
    }
   ],
   "source": [
    "import pandas as pd\n",
    "import csv\n",
    "import json\n",
    "import nltk\n",
    "import numpy as np\n",
    "from pandas.io.json import json_normalize\n",
    "from nltk.corpus import stopwords\n",
    "from nltk.tokenize import word_tokenize\n",
    "\n",
    "file = \"C:\\\\Users\\\\user\\\\Desktop\\\\semantics.json\"\n",
    "file1 = \"C:\\\\Users\\\\user\\\\Desktop\\\\reviews1.json\"  #reviews1.json\n",
    "df = pd.read_json(file1,typ='series')\n",
    "df_rev = json_normalize(df['Reviews'])\n",
    "df_rev['full_content'] = df_rev['Content'] + '. ' + df_rev['Title']\n",
    "pos = pd.read_json(file,typ='series')\n",
    "\n",
    "newcol = df_rev['full_content']\n",
    "newcol.to_csv('content_reviews.csv',header=False, index=False, encoding='utf-8')\n",
    "\n",
    "df = pd.read_csv('C:\\Users\\user\\Documents\\sentiment-analysis-reviews\\content_reviews.csv',encoding='utf-8', header=None)\n",
    "\n",
    "for x in df[0]:\n",
    "    sen = x.lower()\n",
    "    stopWords = set(stopwords.words('english'))\n",
    "    words = word_tokenize(sen)\n",
    "    \n",
    "    wordsFiltered = []\n",
    "    for w in words:\n",
    "        if w not in stopWords:\n",
    "            wordsFiltered.append(w)\n",
    "    #print wordsFiltered\n",
    "    posScore = 0\n",
    "    negScore = 0\n",
    "    for i in range(0,len(pos['positive'])):\n",
    "        for s in wordsFiltered:\n",
    "            if s in pos['positive'][i]['phrase']:\n",
    "                posScore = posScore+pos['positive'][i]['value']\n",
    "                \n",
    "    for j in range(0,len(pos['negative'])):\n",
    "        for s in wordsFiltered:\n",
    "            if s in pos['negative'][j]['phrase']:\n",
    "                negScore = negScore+pos['negative'][j]['value']\n",
    "            \n",
    "        \n"
   ]
  },
  {
   "cell_type": "code",
   "execution_count": null,
   "metadata": {
    "collapsed": true
   },
   "outputs": [],
   "source": []
  },
  {
   "cell_type": "code",
   "execution_count": null,
   "metadata": {
    "collapsed": true
   },
   "outputs": [],
   "source": []
  }
 ],
 "metadata": {
  "kernelspec": {
   "display_name": "Python [default]",
   "language": "python",
   "name": "python2"
  },
  "language_info": {
   "codemirror_mode": {
    "name": "ipython",
    "version": 2
   },
   "file_extension": ".py",
   "mimetype": "text/x-python",
   "name": "python",
   "nbconvert_exporter": "python",
   "pygments_lexer": "ipython2",
   "version": "2.7.12"
  }
 },
 "nbformat": 4,
 "nbformat_minor": 1
}
